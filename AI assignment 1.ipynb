{
  "nbformat": 4,
  "nbformat_minor": 0,
  "metadata": {
    "colab": {
      "provenance": []
    },
    "kernelspec": {
      "name": "python3",
      "display_name": "Python 3"
    },
    "language_info": {
      "name": "python"
    }
  },
  "cells": [
    {
      "cell_type": "code",
      "execution_count": null,
      "metadata": {
        "colab": {
          "base_uri": "https://localhost:8080/"
        },
        "id": "mFKTsAa_ffAS",
        "outputId": "58cf24b6-6ff4-46f7-9216-3ecae6a71d4c"
      },
      "outputs": [
        {
          "output_type": "stream",
          "name": "stdout",
          "text": [
            "Enter number of days: 6\n",
            "6 days have 518400 seconds.\n"
          ]
        }
      ],
      "source": [
        "# Program to calculate number of seconds given days\n",
        "days = int(input(\"Enter number of days: \"))\n",
        "seconds = days * 24 * 60 * 60\n",
        "print(f\"{days} days have {seconds} seconds.\")"
      ]
    },
    {
      "cell_type": "code",
      "source": [
        "# Program to compute the volume of a sphere\n",
        "# Formula: (4/3) * π * r^3\n",
        "\n",
        "import math\n",
        "\n",
        "radius = float(input(\"Enter the radius of the sphere: \"))\n",
        "volume = (4/3) * math.pi * (radius ** 3)\n",
        "print(f\"The volume of the sphere with is {volume:.2f}\")"
      ],
      "metadata": {
        "id": "4XzzWmm1gVXl",
        "colab": {
          "base_uri": "https://localhost:8080/"
        },
        "outputId": "4aa4faa0-16a0-4dc3-b9e3-d51abd35528a"
      },
      "execution_count": null,
      "outputs": [
        {
          "output_type": "stream",
          "name": "stdout",
          "text": [
            "Enter the radius of the sphere: 7\n",
            "The volume of the sphere with is 1436.76\n"
          ]
        }
      ]
    },
    {
      "cell_type": "code",
      "source": [
        "# Program to compute area and perimeter of a square using functions\n",
        "\n",
        "def area(side):\n",
        "    return side * side\n",
        "\n",
        "def perimeter(side):\n",
        "    return 4 * side\n",
        "\n",
        "side = float(input(\"Enter side length of the square: \"))\n",
        "area = area(side)\n",
        "perimeter = perimeter(side)\n",
        "\n",
        "print(f\"Area: {area}\")\n",
        "print(f\"Perimeter: {perimeter}\")"
      ],
      "metadata": {
        "colab": {
          "base_uri": "https://localhost:8080/"
        },
        "id": "hKHIFyVAgUyW",
        "outputId": "e32aaf6c-c812-4db9-8c47-c4a9b14da6b0"
      },
      "execution_count": null,
      "outputs": [
        {
          "output_type": "stream",
          "name": "stdout",
          "text": [
            "Enter side length of the square: 7\n",
            "Area: 49.0\n",
            "Perimeter: 28.0\n"
          ]
        }
      ]
    },
    {
      "cell_type": "code",
      "source": [
        "# Pseudocode Conversion:\n",
        "# SET x TO 0, y TO 20\n",
        "# REPEAT\n",
        "#   SUBTRACT 4 FROM y\n",
        "#   ADD 2/y TO x\n",
        "# UNTIL y IS LESS THAN 6\n",
        "# DISPLAY x\n",
        "\n",
        "x = 0\n",
        "y = 20\n",
        "\n",
        "while y >= 6:\n",
        "    y -= 4\n",
        "    x += 2 / y\n",
        "\n",
        "print(\"Final value of x:\", x)\n"
      ],
      "metadata": {
        "id": "MtPzUIWFiKvW"
      },
      "execution_count": null,
      "outputs": []
    },
    {
      "cell_type": "code",
      "source": [
        "\n",
        "# Program to check if a character is uppercase or lowercase\n",
        "\n",
        "def check_case(char):\n",
        "    if char.isupper():\n",
        "        return \"Uppercase\"\n",
        "    elif char.islower():\n",
        "        return \"Lowercase\"\n",
        "    else:\n",
        "        return \"Not a letter\"\n",
        "\n",
        "character = input(\"Enter a single character: \")\n",
        "print(f\"The character '{character}' is {check_case(character)}\")\n"
      ],
      "metadata": {
        "colab": {
          "base_uri": "https://localhost:8080/"
        },
        "id": "qxixJsUAgTC3",
        "outputId": "d2ba51e8-db0f-4681-8b46-74b89329ae1e"
      },
      "execution_count": null,
      "outputs": [
        {
          "output_type": "stream",
          "name": "stdout",
          "text": [
            "Enter a single character: y\n",
            "The character 'y' is Lowercase\n"
          ]
        }
      ]
    },
    {
      "cell_type": "code",
      "source": [
        "# Program to collect 5 values, store in array, then compute average\n",
        "\n",
        "values = []\n",
        "\n",
        "for i in range(5):\n",
        "    num = float(input(f\"Enter value {i+1}: \"))\n",
        "    values.append(num)\n",
        "\n",
        "average = sum(values) / len(values)\n",
        "print(\"Values entered:\", values)\n",
        "print(\"Average of values:\", average)\n"
      ],
      "metadata": {
        "id": "K333FkVU2jPc",
        "colab": {
          "base_uri": "https://localhost:8080/"
        },
        "outputId": "33d89fdb-f3a5-4b00-b36c-cd57294f3cba"
      },
      "execution_count": null,
      "outputs": [
        {
          "output_type": "stream",
          "name": "stdout",
          "text": [
            "Enter value 1: 6\n",
            "Enter value 2: 8\n",
            "Enter value 3: 2\n",
            "Enter value 4: 3\n",
            "Enter value 5: 9\n",
            "Values entered: [6.0, 8.0, 2.0, 3.0, 9.0]\n",
            "Average of values: 5.6\n"
          ]
        }
      ]
    }
  ]
}